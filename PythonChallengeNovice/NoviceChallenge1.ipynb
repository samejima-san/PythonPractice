{
 "cells": [
  {
   "cell_type": "code",
   "execution_count": null,
   "metadata": {},
   "outputs": [],
   "source": [
    "# Take a list, say for example this one:\n",
    "# a = [1, 1, 2, 3, 5, 8, 13, 21, 34, 55, 89]\n",
    "# and write a program that prints out all the elements of the list that \n",
    "# are less than 5. \n",
    "#[Extras: (1) Instead of printing the elements one by \n",
    "# one, make a new list that has all the elements less than 5 from this \n",
    "# list in it and print out this new list. \n",
    "#(2) Write this in one line of Python. \n",
    "#(3) Ask the user for a number and return a list that contains \n",
    "# only elements from the original list a that are smaller than that \n",
    "# number given by the user.]"
   ]
  },
  {
   "cell_type": "code",
   "execution_count": 20,
   "metadata": {},
   "outputs": [
    {
     "name": "stdout",
     "output_type": "stream",
     "text": [
      "[1, 1, 2, 3, 5, 8, 13, 21, 34, 55, 89]\n"
     ]
    },
    {
     "name": "stdin",
     "output_type": "stream",
     "text": [
      "you want numbers smaller than what? 7\n"
     ]
    },
    {
     "name": "stdout",
     "output_type": "stream",
     "text": [
      "[1, 1, 2, 3, 5]\n"
     ]
    }
   ],
   "source": [
    "oldlist = [1, 1, 2, 3, 5, 8, 13, 21, 34, 55, 89]\n",
    "def AreYouSmall(test):\n",
    "    newlist = []\n",
    "    test.sort()\n",
    "    print(test)\n",
    "    stuff = True\n",
    "    i = 0\n",
    "    userInput = int(input(\"you want numbers smaller than what?\"))\n",
    "    while stuff == True:\n",
    "        ln = test[i]\n",
    "        if ln < userInput:\n",
    "            b = test.pop(i)\n",
    "            newlist.append(b)\n",
    "        else:\n",
    "            stuff = False\n",
    "    print(newlist)\n",
    "\n",
    "AreYouSmall(oldlist)\n",
    "            "
   ]
  },
  {
   "cell_type": "code",
   "execution_count": null,
   "metadata": {},
   "outputs": [],
   "source": []
  },
  {
   "cell_type": "code",
   "execution_count": null,
   "metadata": {},
   "outputs": [],
   "source": []
  }
 ],
 "metadata": {
  "kernelspec": {
   "display_name": "Python 3",
   "language": "python",
   "name": "python3"
  },
  "language_info": {
   "codemirror_mode": {
    "name": "ipython",
    "version": 3
   },
   "file_extension": ".py",
   "mimetype": "text/x-python",
   "name": "python",
   "nbconvert_exporter": "python",
   "pygments_lexer": "ipython3",
   "version": "3.7.1"
  }
 },
 "nbformat": 4,
 "nbformat_minor": 2
}
